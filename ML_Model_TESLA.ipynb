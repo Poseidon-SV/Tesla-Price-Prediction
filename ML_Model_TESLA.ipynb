{
 "cells": [
  {
   "cell_type": "markdown",
   "id": "61529d3c",
   "metadata": {},
   "source": [
    "## Import all the required library"
   ]
  },
  {
   "cell_type": "code",
   "execution_count": null,
   "id": "4b748c9a",
   "metadata": {},
   "outputs": [],
   "source": [
    "import pandas as pd\n",
    "import seaborn as sns\n",
    "from sklearn.model_selection import train_test_split\n",
    "from sklearn import preprocessing\n",
    "import sklearn.linear_model \n",
    "import sklearn\n",
    "import pickle\n",
    "import numpy as np\n",
    "import matplotlib.pyplot as plt\n",
    "from sklearn.preprocessing import OneHotEncoder\n",
    "from sklearn.model_selection import train_test_split\n",
    "from sklearn import preprocessing\n",
    "from matplotlib.pyplot import figure\n",
    "from sklearn.metrics import mean_absolute_percentage_error\n",
    "from sklearn.metrics import mean_squared_error\n",
    "from sklearn.metrics import r2_score\n",
    "from sklearn.preprocessing import scale \n",
    "from sklearn.linear_model import LinearRegression, Ridge, RidgeCV, Lasso, LassoCV\n",
    "from sklearn.model_selection import KFold, cross_val_score, train_test_split\n",
    "from sklearn.metrics import mean_squared_error\n",
    "from sklearn.model_selection import train_test_split\n",
    "from sklearn.decomposition import PCA\n",
    "import warnings\n",
    "warnings.filterwarnings('ignore'"
   ]
  },
  {
   "cell_type": "markdown",
   "id": "b6b6a1de",
   "metadata": {},
   "source": [
    "##  Loading Dataset"
   ]
  },
  {
   "cell_type": "code",
   "execution_count": 11,
   "id": "2f52fa2f",
   "metadata": {},
   "outputs": [],
   "source": [
    "df = pd.read_csv('TSLA.csv')"
   ]
  },
  {
   "cell_type": "code",
   "execution_count": 12,
   "id": "b43219d3",
   "metadata": {},
   "outputs": [
    {
     "data": {
      "text/html": [
       "<div>\n",
       "<style scoped>\n",
       "    .dataframe tbody tr th:only-of-type {\n",
       "        vertical-align: middle;\n",
       "    }\n",
       "\n",
       "    .dataframe tbody tr th {\n",
       "        vertical-align: top;\n",
       "    }\n",
       "\n",
       "    .dataframe thead th {\n",
       "        text-align: right;\n",
       "    }\n",
       "</style>\n",
       "<table border=\"1\" class=\"dataframe\">\n",
       "  <thead>\n",
       "    <tr style=\"text-align: right;\">\n",
       "      <th></th>\n",
       "      <th>Date</th>\n",
       "      <th>Open</th>\n",
       "      <th>High</th>\n",
       "      <th>Low</th>\n",
       "      <th>Close</th>\n",
       "      <th>Adj Close</th>\n",
       "      <th>Volume</th>\n",
       "    </tr>\n",
       "  </thead>\n",
       "  <tbody>\n",
       "    <tr>\n",
       "      <th>0</th>\n",
       "      <td>2010-06-29</td>\n",
       "      <td>19.000000</td>\n",
       "      <td>25.00</td>\n",
       "      <td>17.540001</td>\n",
       "      <td>23.889999</td>\n",
       "      <td>23.889999</td>\n",
       "      <td>18766300</td>\n",
       "    </tr>\n",
       "    <tr>\n",
       "      <th>1</th>\n",
       "      <td>2010-06-30</td>\n",
       "      <td>25.790001</td>\n",
       "      <td>30.42</td>\n",
       "      <td>23.299999</td>\n",
       "      <td>23.830000</td>\n",
       "      <td>23.830000</td>\n",
       "      <td>17187100</td>\n",
       "    </tr>\n",
       "    <tr>\n",
       "      <th>2</th>\n",
       "      <td>2010-07-01</td>\n",
       "      <td>25.000000</td>\n",
       "      <td>25.92</td>\n",
       "      <td>20.270000</td>\n",
       "      <td>21.959999</td>\n",
       "      <td>21.959999</td>\n",
       "      <td>8218800</td>\n",
       "    </tr>\n",
       "    <tr>\n",
       "      <th>3</th>\n",
       "      <td>2010-07-02</td>\n",
       "      <td>23.000000</td>\n",
       "      <td>23.10</td>\n",
       "      <td>18.709999</td>\n",
       "      <td>19.200001</td>\n",
       "      <td>19.200001</td>\n",
       "      <td>5139800</td>\n",
       "    </tr>\n",
       "    <tr>\n",
       "      <th>4</th>\n",
       "      <td>2010-07-06</td>\n",
       "      <td>20.000000</td>\n",
       "      <td>20.00</td>\n",
       "      <td>15.830000</td>\n",
       "      <td>16.110001</td>\n",
       "      <td>16.110001</td>\n",
       "      <td>6866900</td>\n",
       "    </tr>\n",
       "  </tbody>\n",
       "</table>\n",
       "</div>"
      ],
      "text/plain": [
       "         Date       Open   High        Low      Close  Adj Close    Volume\n",
       "0  2010-06-29  19.000000  25.00  17.540001  23.889999  23.889999  18766300\n",
       "1  2010-06-30  25.790001  30.42  23.299999  23.830000  23.830000  17187100\n",
       "2  2010-07-01  25.000000  25.92  20.270000  21.959999  21.959999   8218800\n",
       "3  2010-07-02  23.000000  23.10  18.709999  19.200001  19.200001   5139800\n",
       "4  2010-07-06  20.000000  20.00  15.830000  16.110001  16.110001   6866900"
      ]
     },
     "execution_count": 12,
     "metadata": {},
     "output_type": "execute_result"
    }
   ],
   "source": [
    "df.head()"
   ]
  },
  {
   "cell_type": "code",
   "execution_count": 13,
   "id": "3759fc8c",
   "metadata": {},
   "outputs": [
    {
     "name": "stdout",
     "output_type": "stream",
     "text": [
      "<class 'pandas.core.frame.DataFrame'>\n",
      "RangeIndex: 2416 entries, 0 to 2415\n",
      "Data columns (total 7 columns):\n",
      " #   Column     Non-Null Count  Dtype  \n",
      "---  ------     --------------  -----  \n",
      " 0   Date       2416 non-null   object \n",
      " 1   Open       2416 non-null   float64\n",
      " 2   High       2416 non-null   float64\n",
      " 3   Low        2416 non-null   float64\n",
      " 4   Close      2416 non-null   float64\n",
      " 5   Adj Close  2416 non-null   float64\n",
      " 6   Volume     2416 non-null   int64  \n",
      "dtypes: float64(5), int64(1), object(1)\n",
      "memory usage: 132.2+ KB\n"
     ]
    }
   ],
   "source": [
    "df.info()"
   ]
  },
  {
   "cell_type": "code",
   "execution_count": 14,
   "id": "62086492",
   "metadata": {},
   "outputs": [],
   "source": [
    "data_to_use = tesla['Close'].values"
   ]
  },
  {
   "cell_type": "code",
   "execution_count": 6,
   "id": "ae280a89",
   "metadata": {},
   "outputs": [
    {
     "name": "stdout",
     "output_type": "stream",
     "text": [
      "Total number of days in the dataset:2416\n"
     ]
    }
   ],
   "source": [
    "print('Total number of days in the dataset:{}'.format(len(data_to_use)))"
   ]
  },
  {
   "cell_type": "code",
   "execution_count": 15,
   "id": "14f2ba43",
   "metadata": {},
   "outputs": [
    {
     "data": {
      "text/html": [
       "<div>\n",
       "<style scoped>\n",
       "    .dataframe tbody tr th:only-of-type {\n",
       "        vertical-align: middle;\n",
       "    }\n",
       "\n",
       "    .dataframe tbody tr th {\n",
       "        vertical-align: top;\n",
       "    }\n",
       "\n",
       "    .dataframe thead th {\n",
       "        text-align: right;\n",
       "    }\n",
       "</style>\n",
       "<table border=\"1\" class=\"dataframe\">\n",
       "  <thead>\n",
       "    <tr style=\"text-align: right;\">\n",
       "      <th></th>\n",
       "      <th>Open</th>\n",
       "      <th>High</th>\n",
       "      <th>Low</th>\n",
       "      <th>Close</th>\n",
       "      <th>Adj Close</th>\n",
       "      <th>Volume</th>\n",
       "    </tr>\n",
       "  </thead>\n",
       "  <tbody>\n",
       "    <tr>\n",
       "      <th>count</th>\n",
       "      <td>2416.000000</td>\n",
       "      <td>2416.000000</td>\n",
       "      <td>2416.000000</td>\n",
       "      <td>2416.000000</td>\n",
       "      <td>2416.000000</td>\n",
       "      <td>2.416000e+03</td>\n",
       "    </tr>\n",
       "    <tr>\n",
       "      <th>mean</th>\n",
       "      <td>186.271147</td>\n",
       "      <td>189.578224</td>\n",
       "      <td>182.916639</td>\n",
       "      <td>186.403651</td>\n",
       "      <td>186.403651</td>\n",
       "      <td>5.572722e+06</td>\n",
       "    </tr>\n",
       "    <tr>\n",
       "      <th>std</th>\n",
       "      <td>118.740163</td>\n",
       "      <td>120.892329</td>\n",
       "      <td>116.857591</td>\n",
       "      <td>119.136020</td>\n",
       "      <td>119.136020</td>\n",
       "      <td>4.987809e+06</td>\n",
       "    </tr>\n",
       "    <tr>\n",
       "      <th>min</th>\n",
       "      <td>16.139999</td>\n",
       "      <td>16.629999</td>\n",
       "      <td>14.980000</td>\n",
       "      <td>15.800000</td>\n",
       "      <td>15.800000</td>\n",
       "      <td>1.185000e+05</td>\n",
       "    </tr>\n",
       "    <tr>\n",
       "      <th>25%</th>\n",
       "      <td>34.342498</td>\n",
       "      <td>34.897501</td>\n",
       "      <td>33.587501</td>\n",
       "      <td>34.400002</td>\n",
       "      <td>34.400002</td>\n",
       "      <td>1.899275e+06</td>\n",
       "    </tr>\n",
       "    <tr>\n",
       "      <th>50%</th>\n",
       "      <td>213.035004</td>\n",
       "      <td>216.745002</td>\n",
       "      <td>208.870002</td>\n",
       "      <td>212.960007</td>\n",
       "      <td>212.960007</td>\n",
       "      <td>4.578400e+06</td>\n",
       "    </tr>\n",
       "    <tr>\n",
       "      <th>75%</th>\n",
       "      <td>266.450012</td>\n",
       "      <td>270.927513</td>\n",
       "      <td>262.102501</td>\n",
       "      <td>266.774994</td>\n",
       "      <td>266.774994</td>\n",
       "      <td>7.361150e+06</td>\n",
       "    </tr>\n",
       "    <tr>\n",
       "      <th>max</th>\n",
       "      <td>673.690002</td>\n",
       "      <td>786.140015</td>\n",
       "      <td>673.520020</td>\n",
       "      <td>780.000000</td>\n",
       "      <td>780.000000</td>\n",
       "      <td>4.706500e+07</td>\n",
       "    </tr>\n",
       "  </tbody>\n",
       "</table>\n",
       "</div>"
      ],
      "text/plain": [
       "              Open         High          Low        Close    Adj Close  \\\n",
       "count  2416.000000  2416.000000  2416.000000  2416.000000  2416.000000   \n",
       "mean    186.271147   189.578224   182.916639   186.403651   186.403651   \n",
       "std     118.740163   120.892329   116.857591   119.136020   119.136020   \n",
       "min      16.139999    16.629999    14.980000    15.800000    15.800000   \n",
       "25%      34.342498    34.897501    33.587501    34.400002    34.400002   \n",
       "50%     213.035004   216.745002   208.870002   212.960007   212.960007   \n",
       "75%     266.450012   270.927513   262.102501   266.774994   266.774994   \n",
       "max     673.690002   786.140015   673.520020   780.000000   780.000000   \n",
       "\n",
       "             Volume  \n",
       "count  2.416000e+03  \n",
       "mean   5.572722e+06  \n",
       "std    4.987809e+06  \n",
       "min    1.185000e+05  \n",
       "25%    1.899275e+06  \n",
       "50%    4.578400e+06  \n",
       "75%    7.361150e+06  \n",
       "max    4.706500e+07  "
      ]
     },
     "execution_count": 15,
     "metadata": {},
     "output_type": "execute_result"
    }
   ],
   "source": [
    "df.describe()"
   ]
  },
  {
   "cell_type": "code",
   "execution_count": 22,
   "id": "ac9be851",
   "metadata": {},
   "outputs": [
    {
     "name": "stdout",
     "output_type": "stream",
     "text": [
      "Total number of numerical(int) columns are  1\n",
      " Names:  ['Volume']\n"
     ]
    }
   ],
   "source": [
    "int64_cols = ['int64']\n",
    "int64_lst = list(df.select_dtypes(include=int64_cols).columns)\n",
    "print(\"Total number of numerical(int) columns are \", len(int64_lst))\n",
    "print(\" Names: \", int64_lst)"
   ]
  },
  {
   "cell_type": "code",
   "execution_count": 23,
   "id": "014367b7",
   "metadata": {},
   "outputs": [
    {
     "name": "stdout",
     "output_type": "stream",
     "text": [
      "Total number of numerical(float) columns are  5\n",
      " Names :  ['Open', 'High', 'Low', 'Close', 'Adj Close']\n"
     ]
    }
   ],
   "source": [
    "float64_cols = ['float64']\n",
    "float64_lst = list(df.select_dtypes(include=float64_cols).columns)\n",
    "print(\"Total number of numerical(float) columns are \", len(float64_lst))\n",
    "print(\" Names : \", float64_lst)"
   ]
  },
  {
   "cell_type": "code",
   "execution_count": 26,
   "id": "f4e67bbc",
   "metadata": {},
   "outputs": [
    {
     "data": {
      "text/plain": [
       "(2416, 2416)"
      ]
     },
     "execution_count": 26,
     "metadata": {},
     "output_type": "execute_result"
    }
   ],
   "source": [
    "len(df['Date'].unique()), df.shape[0]"
   ]
  },
  {
   "cell_type": "code",
   "execution_count": 27,
   "id": "be8e1cf0",
   "metadata": {},
   "outputs": [],
   "source": [
    "df = df.drop(['Date','Adj Close'],axis=1)"
   ]
  },
  {
   "cell_type": "code",
   "execution_count": 28,
   "id": "e5b1a715",
   "metadata": {},
   "outputs": [
    {
     "name": "stdout",
     "output_type": "stream",
     "text": [
      "The new TSLA dataset has 2416 rows and 5 columns\n"
     ]
    }
   ],
   "source": [
    "#count rows and columns.\n",
    "print ('The new TSLA dataset has {0} rows and {1} columns'.format(df.shape[0],df.shape[1]))"
   ]
  },
  {
   "cell_type": "markdown",
   "id": "50e3adef",
   "metadata": {},
   "source": [
    "## Data Exploration"
   ]
  },
  {
   "cell_type": "code",
   "execution_count": 30,
   "id": "55ca7acf",
   "metadata": {},
   "outputs": [
    {
     "data": {
      "text/plain": [
       "<AxesSubplot: >"
      ]
     },
     "execution_count": 30,
     "metadata": {},
     "output_type": "execute_result"
    },
    {
     "data": {
      "image/png": "[encoded data removed]",
      "text/plain": [
       "<Figure size 640x480 with 1 Axes>"
      ]
     },
     "metadata": {},
     "output_type": "display_data"
    }
   ],
   "source": [
    "df[['Open','High','Low','Close']].plot(kind='box')"
   ]
  },
  {
   "cell_type": "code",
   "execution_count": 17,
   "id": "429882ce",
   "metadata": {},
   "outputs": [
    {
     "data": {
      "image/png": "[encoded data removed]",
      "text/plain": [
       "<Figure size 3000x2000 with 6 Axes>"
      ]
     },
     "metadata": {},
     "output_type": "display_data"
    }
   ],
   "source": [
    "# Histogram\n",
    "%matplotlib inline\n",
    "import matplotlib.pyplot as plt\n",
    "df.hist(bins=50, figsize=(30,20))\n",
    "plt.show()"
   ]
  },
  {
   "cell_type": "code",
   "execution_count": 18,
   "id": "bb2ea6e4",
   "metadata": {},
   "outputs": [
    {
     "data": {
      "image/png": "[encoded data removed]",
      "text/plain": [
       "<Figure size 640x480 with 2 Axes>"
      ]
     },
     "metadata": {},
     "output_type": "display_data"
    }
   ],
   "source": [
    "# Heatmap\n",
    "corr = df.corr().abs()\n",
    "sns.heatmap(corr)\n",
    "plt.show()"
   ]
  },
  {
   "cell_type": "code",
   "execution_count": 19,
   "id": "dc8d25eb",
   "metadata": {},
   "outputs": [
    {
     "data": {
      "text/plain": [
       "<seaborn.axisgrid.FacetGrid at 0x1785a5f9360>"
      ]
     },
     "execution_count": 19,
     "metadata": {},
     "output_type": "execute_result"
    },
    {
     "data": {
      "image/png": "[encoded data removed]",
      "text/plain": [
       "<Figure size 1200x600 with 6 Axes>"
      ]
     },
     "metadata": {},
     "output_type": "display_data"
    }
   ],
   "source": [
    "# Distplot\n",
    "num = [f for f in df.columns if df.dtypes[f] != 'object']\n",
    "nd = pd.melt(df, value_vars = num)\n",
    "n1 = sns.FacetGrid (nd, col='variable', col_wrap=4, sharex=False, sharey = False)\n",
    "n1 = n1.map(sns.distplot, 'value')\n",
    "n1"
   ]
  },
  {
   "cell_type": "code",
   "execution_count": 31,
   "id": "0f14e73b",
   "metadata": {},
   "outputs": [
    {
     "data": {
      "text/html": [
       "<div>\n",
       "<style scoped>\n",
       "    .dataframe tbody tr th:only-of-type {\n",
       "        vertical-align: middle;\n",
       "    }\n",
       "\n",
       "    .dataframe tbody tr th {\n",
       "        vertical-align: top;\n",
       "    }\n",
       "\n",
       "    .dataframe thead th {\n",
       "        text-align: right;\n",
       "    }\n",
       "</style>\n",
       "<table border=\"1\" class=\"dataframe\">\n",
       "  <thead>\n",
       "    <tr style=\"text-align: right;\">\n",
       "      <th></th>\n",
       "      <th>Open</th>\n",
       "      <th>High</th>\n",
       "      <th>Low</th>\n",
       "      <th>Close</th>\n",
       "      <th>Adj Close</th>\n",
       "      <th>Volume</th>\n",
       "    </tr>\n",
       "  </thead>\n",
       "  <tbody>\n",
       "    <tr>\n",
       "      <th>Open</th>\n",
       "      <td>1.000000</td>\n",
       "      <td>0.999425</td>\n",
       "      <td>0.999575</td>\n",
       "      <td>0.998886</td>\n",
       "      <td>0.998886</td>\n",
       "      <td>0.501762</td>\n",
       "    </tr>\n",
       "    <tr>\n",
       "      <th>High</th>\n",
       "      <td>0.999425</td>\n",
       "      <td>1.000000</td>\n",
       "      <td>0.999389</td>\n",
       "      <td>0.999640</td>\n",
       "      <td>0.999640</td>\n",
       "      <td>0.512944</td>\n",
       "    </tr>\n",
       "    <tr>\n",
       "      <th>Low</th>\n",
       "      <td>0.999575</td>\n",
       "      <td>0.999389</td>\n",
       "      <td>1.000000</td>\n",
       "      <td>0.999447</td>\n",
       "      <td>0.999447</td>\n",
       "      <td>0.493496</td>\n",
       "    </tr>\n",
       "    <tr>\n",
       "      <th>Close</th>\n",
       "      <td>0.998886</td>\n",
       "      <td>0.999640</td>\n",
       "      <td>0.999447</td>\n",
       "      <td>1.000000</td>\n",
       "      <td>1.000000</td>\n",
       "      <td>0.505169</td>\n",
       "    </tr>\n",
       "    <tr>\n",
       "      <th>Adj Close</th>\n",
       "      <td>0.998886</td>\n",
       "      <td>0.999640</td>\n",
       "      <td>0.999447</td>\n",
       "      <td>1.000000</td>\n",
       "      <td>1.000000</td>\n",
       "      <td>0.505169</td>\n",
       "    </tr>\n",
       "    <tr>\n",
       "      <th>Volume</th>\n",
       "      <td>0.501762</td>\n",
       "      <td>0.512944</td>\n",
       "      <td>0.493496</td>\n",
       "      <td>0.505169</td>\n",
       "      <td>0.505169</td>\n",
       "      <td>1.000000</td>\n",
       "    </tr>\n",
       "  </tbody>\n",
       "</table>\n",
       "</div>"
      ],
      "text/plain": [
       "               Open      High       Low     Close  Adj Close    Volume\n",
       "Open       1.000000  0.999425  0.999575  0.998886   0.998886  0.501762\n",
       "High       0.999425  1.000000  0.999389  0.999640   0.999640  0.512944\n",
       "Low        0.999575  0.999389  1.000000  0.999447   0.999447  0.493496\n",
       "Close      0.998886  0.999640  0.999447  1.000000   1.000000  0.505169\n",
       "Adj Close  0.998886  0.999640  0.999447  1.000000   1.000000  0.505169\n",
       "Volume     0.501762  0.512944  0.493496  0.505169   0.505169  1.000000"
      ]
     },
     "execution_count": 31,
     "metadata": {},
     "output_type": "execute_result"
    }
   ],
   "source": [
    "corr"
   ]
  },
  {
   "cell_type": "markdown",
   "id": "9174e960",
   "metadata": {},
   "source": [
    "## Descriptive Analysis"
   ]
  },
  {
   "cell_type": "code",
   "execution_count": 33,
   "id": "c7fce555",
   "metadata": {},
   "outputs": [
    {
     "data": {
      "text/plain": [
       "Open      1.409923e+04\n",
       "High      1.461496e+04\n",
       "Low       1.365570e+04\n",
       "Close     1.419339e+04\n",
       "Volume    2.487824e+13\n",
       "dtype: float64"
      ]
     },
     "execution_count": 33,
     "metadata": {},
     "output_type": "execute_result"
    }
   ],
   "source": [
    "df.var()"
   ]
  },
  {
   "cell_type": "code",
   "execution_count": 34,
   "id": "a56acd32",
   "metadata": {},
   "outputs": [],
   "source": [
    "zero_cols = []\n",
    "\n",
    "def var_cal(df,int64_lst):\n",
    "    \n",
    "    cols = ['normal_value', 'zero_value']\n",
    "    zero_value = 0\n",
    "    normal_value = 0\n",
    "    \n",
    "    for value in int64_lst:\n",
    "    \n",
    "        rs = round(df[value].var(),6)\n",
    "\n",
    "        if rs > 0:\n",
    "            normal_value = normal_value + 1\n",
    "\n",
    "        elif rs == 0:\n",
    "            zero_value = zero_value + 1\n",
    "            zero_cols.append(value)\n",
    "    \n",
    "    var_total_df =  pd.DataFrame([[normal_value, zero_value]], columns=cols) \n",
    "    \n",
    "    return var_total_df"
   ]
  },
  {
   "cell_type": "code",
   "execution_count": 35,
   "id": "ee5fdff5",
   "metadata": {},
   "outputs": [
    {
     "data": {
      "text/html": [
       "<div>\n",
       "<style scoped>\n",
       "    .dataframe tbody tr th:only-of-type {\n",
       "        vertical-align: middle;\n",
       "    }\n",
       "\n",
       "    .dataframe tbody tr th {\n",
       "        vertical-align: top;\n",
       "    }\n",
       "\n",
       "    .dataframe thead th {\n",
       "        text-align: right;\n",
       "    }\n",
       "</style>\n",
       "<table border=\"1\" class=\"dataframe\">\n",
       "  <thead>\n",
       "    <tr style=\"text-align: right;\">\n",
       "      <th></th>\n",
       "      <th>normal_value</th>\n",
       "      <th>zero_value</th>\n",
       "    </tr>\n",
       "  </thead>\n",
       "  <tbody>\n",
       "    <tr>\n",
       "      <th>0</th>\n",
       "      <td>1</td>\n",
       "      <td>0</td>\n",
       "    </tr>\n",
       "  </tbody>\n",
       "</table>\n",
       "</div>"
      ],
      "text/plain": [
       "   normal_value  zero_value\n",
       "0             1           0"
      ]
     },
     "execution_count": 35,
     "metadata": {},
     "output_type": "execute_result"
    }
   ],
   "source": [
    "var_cal(df, int64_lst)"
   ]
  },
  {
   "cell_type": "code",
   "execution_count": 36,
   "id": "fd2229db",
   "metadata": {},
   "outputs": [
    {
     "data": {
      "text/plain": [
       "Open      2.130350e+02\n",
       "High      2.167450e+02\n",
       "Low       2.088700e+02\n",
       "Close     2.129600e+02\n",
       "Volume    4.578400e+06\n",
       "dtype: float64"
      ]
     },
     "execution_count": 36,
     "metadata": {},
     "output_type": "execute_result"
    }
   ],
   "source": [
    "df.median()"
   ]
  },
  {
   "cell_type": "code",
   "execution_count": 37,
   "id": "d2f87ab9",
   "metadata": {},
   "outputs": [],
   "source": [
    "def median_cal(df,int64_lst):\n",
    "    \n",
    "    cols = ['normal_value', 'zero_value']\n",
    "    zero_value = 0\n",
    "    normal_value = 0\n",
    "    \n",
    "    for value in int64_lst:\n",
    "    \n",
    "        rs = round(df[value].mean(),6)\n",
    "\n",
    "        if rs > 0:\n",
    "            normal_value = normal_value + 1\n",
    "\n",
    "        elif rs == 0:\n",
    "            zero_value = zero_value + 1\n",
    "    \n",
    "    median_total_df =  pd.DataFrame([[normal_value, zero_value]], columns=cols) \n",
    "    \n",
    "    return median_total_df\n",
    "\n"
   ]
  },
  {
   "cell_type": "code",
   "execution_count": 38,
   "id": "22dd11f9",
   "metadata": {},
   "outputs": [
    {
     "data": {
      "text/html": [
       "<div>\n",
       "<style scoped>\n",
       "    .dataframe tbody tr th:only-of-type {\n",
       "        vertical-align: middle;\n",
       "    }\n",
       "\n",
       "    .dataframe tbody tr th {\n",
       "        vertical-align: top;\n",
       "    }\n",
       "\n",
       "    .dataframe thead th {\n",
       "        text-align: right;\n",
       "    }\n",
       "</style>\n",
       "<table border=\"1\" class=\"dataframe\">\n",
       "  <thead>\n",
       "    <tr style=\"text-align: right;\">\n",
       "      <th></th>\n",
       "      <th>normal_value</th>\n",
       "      <th>zero_value</th>\n",
       "    </tr>\n",
       "  </thead>\n",
       "  <tbody>\n",
       "    <tr>\n",
       "      <th>0</th>\n",
       "      <td>1</td>\n",
       "      <td>0</td>\n",
       "    </tr>\n",
       "  </tbody>\n",
       "</table>\n",
       "</div>"
      ],
      "text/plain": [
       "   normal_value  zero_value\n",
       "0             1           0"
      ]
     },
     "execution_count": 38,
     "metadata": {},
     "output_type": "execute_result"
    }
   ],
   "source": [
    "median_cal(df, int64_lst)"
   ]
  },
  {
   "cell_type": "code",
   "execution_count": 39,
   "id": "5406bdb3",
   "metadata": {},
   "outputs": [],
   "source": [
    "# Mode\n",
    "def mode_cal(df,int64_lst):\n",
    "    \n",
    "    cols = ['normal_value', 'zero_value', 'string_value']\n",
    "    zero_value = 0\n",
    "    normal_value = 0\n",
    "    string_value = 0\n",
    "    \n",
    "    for value in int64_lst:\n",
    "                \n",
    "        rs = df[value].mode()[0]\n",
    "        \n",
    "        if isinstance(rs, str):\n",
    "            string_value = string_value + 1\n",
    "        else:\n",
    "\n",
    "            if rs > 0:\n",
    "                normal_value = normal_value + 1\n",
    "\n",
    "            elif rs == 0:\n",
    "                zero_value = zero_value + 1\n",
    "    \n",
    "    mode_total_df =  pd.DataFrame([[normal_value, zero_value, string_value]], columns=cols) \n",
    "    \n",
    "    return mode_total_df"
   ]
  },
  {
   "cell_type": "code",
   "execution_count": 40,
   "id": "9c06a87a",
   "metadata": {},
   "outputs": [
    {
     "data": {
      "text/html": [
       "<div>\n",
       "<style scoped>\n",
       "    .dataframe tbody tr th:only-of-type {\n",
       "        vertical-align: middle;\n",
       "    }\n",
       "\n",
       "    .dataframe tbody tr th {\n",
       "        vertical-align: top;\n",
       "    }\n",
       "\n",
       "    .dataframe thead th {\n",
       "        text-align: right;\n",
       "    }\n",
       "</style>\n",
       "<table border=\"1\" class=\"dataframe\">\n",
       "  <thead>\n",
       "    <tr style=\"text-align: right;\">\n",
       "      <th></th>\n",
       "      <th>normal_value</th>\n",
       "      <th>zero_value</th>\n",
       "      <th>string_value</th>\n",
       "    </tr>\n",
       "  </thead>\n",
       "  <tbody>\n",
       "    <tr>\n",
       "      <th>0</th>\n",
       "      <td>1</td>\n",
       "      <td>0</td>\n",
       "      <td>0</td>\n",
       "    </tr>\n",
       "  </tbody>\n",
       "</table>\n",
       "</div>"
      ],
      "text/plain": [
       "   normal_value  zero_value  string_value\n",
       "0             1           0             0"
      ]
     },
     "execution_count": 40,
     "metadata": {},
     "output_type": "execute_result"
    }
   ],
   "source": [
    "mode_cal(df, int64_lst)"
   ]
  },
  {
   "cell_type": "code",
   "execution_count": 41,
   "id": "7c04cac2",
   "metadata": {},
   "outputs": [
    {
     "data": {
      "text/plain": [
       "Open      1.862711e+02\n",
       "High      1.895782e+02\n",
       "Low       1.829166e+02\n",
       "Close     1.864037e+02\n",
       "Volume    5.572722e+06\n",
       "dtype: float64"
      ]
     },
     "execution_count": 41,
     "metadata": {},
     "output_type": "execute_result"
    }
   ],
   "source": [
    "# Mean\n",
    "df.mean()"
   ]
  },
  {
   "cell_type": "code",
   "execution_count": 42,
   "id": "79630918",
   "metadata": {},
   "outputs": [
    {
     "data": {
      "text/html": [
       "<div>\n",
       "<style scoped>\n",
       "    .dataframe tbody tr th:only-of-type {\n",
       "        vertical-align: middle;\n",
       "    }\n",
       "\n",
       "    .dataframe tbody tr th {\n",
       "        vertical-align: top;\n",
       "    }\n",
       "\n",
       "    .dataframe thead th {\n",
       "        text-align: right;\n",
       "    }\n",
       "</style>\n",
       "<table border=\"1\" class=\"dataframe\">\n",
       "  <thead>\n",
       "    <tr style=\"text-align: right;\">\n",
       "      <th></th>\n",
       "      <th>normal_value</th>\n",
       "      <th>zero_value</th>\n",
       "    </tr>\n",
       "  </thead>\n",
       "  <tbody>\n",
       "    <tr>\n",
       "      <th>0</th>\n",
       "      <td>1</td>\n",
       "      <td>0</td>\n",
       "    </tr>\n",
       "  </tbody>\n",
       "</table>\n",
       "</div>"
      ],
      "text/plain": [
       "   normal_value  zero_value\n",
       "0             1           0"
      ]
     },
     "execution_count": 42,
     "metadata": {},
     "output_type": "execute_result"
    }
   ],
   "source": [
    "def mean_cal(df,int64_lst):\n",
    "    \n",
    "    cols = ['normal_value', 'zero_value']\n",
    "    zero_value = 0\n",
    "    normal_value = 0\n",
    "    \n",
    "    for value in int64_lst:\n",
    "    \n",
    "        rs = round(df[value].mean(),6)\n",
    "\n",
    "        if rs > 0:\n",
    "            normal_value = normal_value + 1\n",
    "\n",
    "        elif rs == 0:\n",
    "            zero_value = zero_value + 1\n",
    "    \n",
    "    mean_total_df =  pd.DataFrame([[normal_value, zero_value]], columns=cols) \n",
    "    \n",
    "    return mean_total_df\n",
    "mean_cal(df, int64_lst)"
   ]
  },
  {
   "cell_type": "code",
   "execution_count": 43,
   "id": "521c3e32",
   "metadata": {},
   "outputs": [
    {
     "data": {
      "text/plain": [
       "Open      0\n",
       "High      0\n",
       "Low       0\n",
       "Close     0\n",
       "Volume    0\n",
       "dtype: int64"
      ]
     },
     "execution_count": 43,
     "metadata": {},
     "output_type": "execute_result"
    }
   ],
   "source": [
    "# Null Values\n",
    "df.isnull().sum()"
   ]
  },
  {
   "cell_type": "code",
   "execution_count": 45,
   "id": "9c7e7b29",
   "metadata": {},
   "outputs": [
    {
     "data": {
      "text/plain": [
       "Open      0\n",
       "High      0\n",
       "Low       0\n",
       "Close     0\n",
       "Volume    0\n",
       "dtype: int64"
      ]
     },
     "execution_count": 45,
     "metadata": {},
     "output_type": "execute_result"
    }
   ],
   "source": [
    "# Nan values\n",
    "df.isna().sum()"
   ]
  },
  {
   "cell_type": "code",
   "execution_count": 46,
   "id": "36f06b73",
   "metadata": {},
   "outputs": [],
   "source": [
    "def right_nor_left(df, int64_lst):\n",
    "    \n",
    "    temp_skewness = ['column', 'skewness_value', 'skewness (+ve or -ve)']\n",
    "    temp_skewness_values  = []\n",
    "    \n",
    "    temp_total = [\"positive (+ve) skewed\", \"normal distrbution\" , \"negative (-ve) skewed\"]\n",
    "    positive = 0\n",
    "    negative = 0\n",
    "    normal = 0\n",
    "    \n",
    "    for value in int64_lst:\n",
    "    \n",
    "        rs = round(df[value].skew(),4)\n",
    "\n",
    "        if rs > 0:\n",
    "            temp_skewness_values.append([value,rs , \"positive (+ve) skewed\"])   \n",
    "            positive = positive + 1\n",
    "\n",
    "        elif rs == 0:\n",
    "            temp_skewness_values.append([value,rs,\"normal distrbution\"])\n",
    "            normal = normal + 1\n",
    "\n",
    "        elif rs < 0:\n",
    "            temp_skewness_values.append([value,rs, \"negative (-ve) skewed\"])\n",
    "            negative = negative + 1\n",
    "    \n",
    "    skewness_df =  pd.DataFrame(temp_skewness_values, columns=temp_skewness) \n",
    "    skewness_total_df =  pd.DataFrame([[positive, normal, negative]], columns=temp_total) \n",
    "    \n",
    "    return skewness_df, skewness_total_df"
   ]
  },
  {
   "cell_type": "code",
   "execution_count": 47,
   "id": "26799370",
   "metadata": {},
   "outputs": [],
   "source": [
    "int64_cols = ['int64']\n",
    "int64_lst_col = list(df.select_dtypes(include=int64_cols).columns)\n",
    "\n",
    "skew_df,skew_total_df = right_nor_left(df, int64_lst_col)"
   ]
  },
  {
   "cell_type": "code",
   "execution_count": 48,
   "id": "6662e3f8",
   "metadata": {},
   "outputs": [
    {
     "data": {
      "text/html": [
       "<div>\n",
       "<style scoped>\n",
       "    .dataframe tbody tr th:only-of-type {\n",
       "        vertical-align: middle;\n",
       "    }\n",
       "\n",
       "    .dataframe tbody tr th {\n",
       "        vertical-align: top;\n",
       "    }\n",
       "\n",
       "    .dataframe thead th {\n",
       "        text-align: right;\n",
       "    }\n",
       "</style>\n",
       "<table border=\"1\" class=\"dataframe\">\n",
       "  <thead>\n",
       "    <tr style=\"text-align: right;\">\n",
       "      <th></th>\n",
       "      <th>column</th>\n",
       "      <th>skewness_value</th>\n",
       "      <th>skewness (+ve or -ve)</th>\n",
       "    </tr>\n",
       "  </thead>\n",
       "  <tbody>\n",
       "    <tr>\n",
       "      <th>0</th>\n",
       "      <td>Volume</td>\n",
       "      <td>2.1652</td>\n",
       "      <td>positive (+ve) skewed</td>\n",
       "    </tr>\n",
       "  </tbody>\n",
       "</table>\n",
       "</div>"
      ],
      "text/plain": [
       "   column  skewness_value  skewness (+ve or -ve)\n",
       "0  Volume          2.1652  positive (+ve) skewed"
      ]
     },
     "execution_count": 48,
     "metadata": {},
     "output_type": "execute_result"
    }
   ],
   "source": [
    "skew_df"
   ]
  },
  {
   "cell_type": "code",
   "execution_count": 50,
   "id": "d5d1019c",
   "metadata": {},
   "outputs": [
    {
     "data": {
      "text/html": [
       "<div>\n",
       "<style scoped>\n",
       "    .dataframe tbody tr th:only-of-type {\n",
       "        vertical-align: middle;\n",
       "    }\n",
       "\n",
       "    .dataframe tbody tr th {\n",
       "        vertical-align: top;\n",
       "    }\n",
       "\n",
       "    .dataframe thead th {\n",
       "        text-align: right;\n",
       "    }\n",
       "</style>\n",
       "<table border=\"1\" class=\"dataframe\">\n",
       "  <thead>\n",
       "    <tr style=\"text-align: right;\">\n",
       "      <th></th>\n",
       "      <th>column</th>\n",
       "      <th>skewness_value</th>\n",
       "      <th>skewness (+ve or -ve)</th>\n",
       "    </tr>\n",
       "  </thead>\n",
       "  <tbody>\n",
       "    <tr>\n",
       "      <th>0</th>\n",
       "      <td>Open</td>\n",
       "      <td>-0.0144</td>\n",
       "      <td>negative (-ve) skewed</td>\n",
       "    </tr>\n",
       "    <tr>\n",
       "      <th>1</th>\n",
       "      <td>High</td>\n",
       "      <td>0.0119</td>\n",
       "      <td>positive (+ve) skewed</td>\n",
       "    </tr>\n",
       "    <tr>\n",
       "      <th>2</th>\n",
       "      <td>Low</td>\n",
       "      <td>-0.0104</td>\n",
       "      <td>negative (-ve) skewed</td>\n",
       "    </tr>\n",
       "    <tr>\n",
       "      <th>3</th>\n",
       "      <td>Close</td>\n",
       "      <td>0.0165</td>\n",
       "      <td>positive (+ve) skewed</td>\n",
       "    </tr>\n",
       "  </tbody>\n",
       "</table>\n",
       "</div>"
      ],
      "text/plain": [
       "  column  skewness_value  skewness (+ve or -ve)\n",
       "0   Open         -0.0144  negative (-ve) skewed\n",
       "1   High          0.0119  positive (+ve) skewed\n",
       "2    Low         -0.0104  negative (-ve) skewed\n",
       "3  Close          0.0165  positive (+ve) skewed"
      ]
     },
     "execution_count": 50,
     "metadata": {},
     "output_type": "execute_result"
    }
   ],
   "source": [
    "def right_nor_left(df, float64_lst):\n",
    "    \n",
    "    temp_skewness = ['column', 'skewness_value', 'skewness (+ve or -ve)']\n",
    "    temp_skewness_values  = []\n",
    "    \n",
    "    temp_total = [\"positive (+ve) skewed\", \"normal distrbution\" , \"negative (-ve) skewed\"]\n",
    "    positive = 0\n",
    "    negative = 0\n",
    "    normal = 0\n",
    "    \n",
    "    for value in float64_lst:\n",
    "    \n",
    "        rs = round(df[value].skew(),4)\n",
    "\n",
    "        if rs > 0:\n",
    "            temp_skewness_values.append([value,rs , \"positive (+ve) skewed\"])   \n",
    "            positive = positive + 1\n",
    "\n",
    "        elif rs == 0:\n",
    "            temp_skewness_values.append([value,rs,\"normal distrbution\"])\n",
    "            normal = normal + 1\n",
    "\n",
    "        elif rs < 0:\n",
    "            temp_skewness_values.append([value,rs, \"negative (-ve) skewed\"])\n",
    "            negative = negative + 1\n",
    "    \n",
    "    skewness_df =  pd.DataFrame(temp_skewness_values, columns=temp_skewness) \n",
    "    skewness_total_df =  pd.DataFrame([[positive, normal, negative]], columns=temp_total) \n",
    "    \n",
    "    return skewness_df, skewness_total_df\n",
    "float64_cols = ['float64']\n",
    "float64_lst_col = list(df.select_dtypes(include=float64_cols).columns)\n",
    "\n",
    "skew_df,skew_total_df = right_nor_left(df, float64_lst_col)\n",
    "skew_df"
   ]
  },
  {
   "cell_type": "code",
   "execution_count": 51,
   "id": "63775db0",
   "metadata": {},
   "outputs": [
    {
     "data": {
      "text/plain": [
       "Open      1.187402e+02\n",
       "High      1.208923e+02\n",
       "Low       1.168576e+02\n",
       "Close     1.191360e+02\n",
       "Volume    4.987809e+06\n",
       "dtype: float64"
      ]
     },
     "execution_count": 51,
     "metadata": {},
     "output_type": "execute_result"
    }
   ],
   "source": [
    "#Standard Deviation\n",
    "df.std()"
   ]
  },
  {
   "cell_type": "code",
   "execution_count": 52,
   "id": "954b8096",
   "metadata": {},
   "outputs": [
    {
     "data": {
      "text/plain": [
       "119.13601997634152"
      ]
     },
     "execution_count": 52,
     "metadata": {},
     "output_type": "execute_result"
    }
   ],
   "source": [
    "df['Close'].std()"
   ]
  },
  {
   "cell_type": "code",
   "execution_count": 53,
   "id": "d937312a",
   "metadata": {},
   "outputs": [],
   "source": [
    "def std_cal(df,int64_lst):\n",
    "    \n",
    "    cols = ['normal_value', 'zero_value']\n",
    "    zero_value = 0\n",
    "    normal_value = 0\n",
    "    \n",
    "    for value in int64_lst:\n",
    "    \n",
    "        rs = round(df[value].std(),6)\n",
    "\n",
    "        if rs > 0:\n",
    "            normal_value = normal_value + 1\n",
    "\n",
    "        elif rs == 0:\n",
    "            zero_value = zero_value + 1\n",
    "    \n",
    "    std_total_df =  pd.DataFrame([[normal_value, zero_value]], columns=cols) \n",
    "    \n",
    "    return std_total_df"
   ]
  },
  {
   "cell_type": "code",
   "execution_count": 54,
   "id": "ef654f39",
   "metadata": {},
   "outputs": [
    {
     "data": {
      "text/html": [
       "<div>\n",
       "<style scoped>\n",
       "    .dataframe tbody tr th:only-of-type {\n",
       "        vertical-align: middle;\n",
       "    }\n",
       "\n",
       "    .dataframe tbody tr th {\n",
       "        vertical-align: top;\n",
       "    }\n",
       "\n",
       "    .dataframe thead th {\n",
       "        text-align: right;\n",
       "    }\n",
       "</style>\n",
       "<table border=\"1\" class=\"dataframe\">\n",
       "  <thead>\n",
       "    <tr style=\"text-align: right;\">\n",
       "      <th></th>\n",
       "      <th>normal_value</th>\n",
       "      <th>zero_value</th>\n",
       "    </tr>\n",
       "  </thead>\n",
       "  <tbody>\n",
       "    <tr>\n",
       "      <th>0</th>\n",
       "      <td>1</td>\n",
       "      <td>0</td>\n",
       "    </tr>\n",
       "  </tbody>\n",
       "</table>\n",
       "</div>"
      ],
      "text/plain": [
       "   normal_value  zero_value\n",
       "0             1           0"
      ]
     },
     "execution_count": 54,
     "metadata": {},
     "output_type": "execute_result"
    }
   ],
   "source": [
    "std_cal(df, int64_lst)"
   ]
  },
  {
   "cell_type": "markdown",
   "id": "51ed7779",
   "metadata": {},
   "source": [
    "## Data pre-processing"
   ]
  },
  {
   "cell_type": "code",
   "execution_count": 62,
   "id": "435a7c5a",
   "metadata": {},
   "outputs": [
    {
     "data": {
      "text/plain": [
       "['Volume']"
      ]
     },
     "execution_count": 62,
     "metadata": {},
     "output_type": "execute_result"
    }
   ],
   "source": [
    "encoder = OneHotEncoder()\n",
    "for value in int64_lst:\n",
    "\n",
    "    transformed = encoder.fit_transform(df[[value]])\n",
    "    df[encoder.categories_[0]] = transformed.toarray()\n",
    "int64_lst"
   ]
  },
  {
   "cell_type": "code",
   "execution_count": 63,
   "id": "e187f063",
   "metadata": {},
   "outputs": [],
   "source": [
    "df = df.drop(int64_lst, axis=1)"
   ]
  },
  {
   "cell_type": "code",
   "execution_count": 64,
   "id": "3b9a93fe",
   "metadata": {},
   "outputs": [
    {
     "data": {
      "text/html": [
       "<div>\n",
       "<style scoped>\n",
       "    .dataframe tbody tr th:only-of-type {\n",
       "        vertical-align: middle;\n",
       "    }\n",
       "\n",
       "    .dataframe tbody tr th {\n",
       "        vertical-align: top;\n",
       "    }\n",
       "\n",
       "    .dataframe thead th {\n",
       "        text-align: right;\n",
       "    }\n",
       "</style>\n",
       "<table border=\"1\" class=\"dataframe\">\n",
       "  <thead>\n",
       "    <tr style=\"text-align: right;\">\n",
       "      <th></th>\n",
       "      <th>Open</th>\n",
       "      <th>High</th>\n",
       "      <th>Low</th>\n",
       "      <th>Close</th>\n",
       "      <th>118500</th>\n",
       "      <th>141000</th>\n",
       "      <th>161100</th>\n",
       "      <th>162800</th>\n",
       "      <th>171200</th>\n",
       "      <th>201100</th>\n",
       "      <th>...</th>\n",
       "      <th>30006100</th>\n",
       "      <th>30875800</th>\n",
       "      <th>31071700</th>\n",
       "      <th>31144300</th>\n",
       "      <th>31369000</th>\n",
       "      <th>32371900</th>\n",
       "      <th>32681700</th>\n",
       "      <th>33649700</th>\n",
       "      <th>37163900</th>\n",
       "      <th>47065000</th>\n",
       "    </tr>\n",
       "  </thead>\n",
       "  <tbody>\n",
       "    <tr>\n",
       "      <th>0</th>\n",
       "      <td>19.000000</td>\n",
       "      <td>25.00</td>\n",
       "      <td>17.540001</td>\n",
       "      <td>23.889999</td>\n",
       "      <td>0.0</td>\n",
       "      <td>0.0</td>\n",
       "      <td>0.0</td>\n",
       "      <td>0.0</td>\n",
       "      <td>0.0</td>\n",
       "      <td>0.0</td>\n",
       "      <td>...</td>\n",
       "      <td>0.0</td>\n",
       "      <td>0.0</td>\n",
       "      <td>0.0</td>\n",
       "      <td>0.0</td>\n",
       "      <td>0.0</td>\n",
       "      <td>0.0</td>\n",
       "      <td>0.0</td>\n",
       "      <td>0.0</td>\n",
       "      <td>0.0</td>\n",
       "      <td>0.0</td>\n",
       "    </tr>\n",
       "    <tr>\n",
       "      <th>1</th>\n",
       "      <td>25.790001</td>\n",
       "      <td>30.42</td>\n",
       "      <td>23.299999</td>\n",
       "      <td>23.830000</td>\n",
       "      <td>0.0</td>\n",
       "      <td>0.0</td>\n",
       "      <td>0.0</td>\n",
       "      <td>0.0</td>\n",
       "      <td>0.0</td>\n",
       "      <td>0.0</td>\n",
       "      <td>...</td>\n",
       "      <td>0.0</td>\n",
       "      <td>0.0</td>\n",
       "      <td>0.0</td>\n",
       "      <td>0.0</td>\n",
       "      <td>0.0</td>\n",
       "      <td>0.0</td>\n",
       "      <td>0.0</td>\n",
       "      <td>0.0</td>\n",
       "      <td>0.0</td>\n",
       "      <td>0.0</td>\n",
       "    </tr>\n",
       "    <tr>\n",
       "      <th>2</th>\n",
       "      <td>25.000000</td>\n",
       "      <td>25.92</td>\n",
       "      <td>20.270000</td>\n",
       "      <td>21.959999</td>\n",
       "      <td>0.0</td>\n",
       "      <td>0.0</td>\n",
       "      <td>0.0</td>\n",
       "      <td>0.0</td>\n",
       "      <td>0.0</td>\n",
       "      <td>0.0</td>\n",
       "      <td>...</td>\n",
       "      <td>0.0</td>\n",
       "      <td>0.0</td>\n",
       "      <td>0.0</td>\n",
       "      <td>0.0</td>\n",
       "      <td>0.0</td>\n",
       "      <td>0.0</td>\n",
       "      <td>0.0</td>\n",
       "      <td>0.0</td>\n",
       "      <td>0.0</td>\n",
       "      <td>0.0</td>\n",
       "    </tr>\n",
       "    <tr>\n",
       "      <th>3</th>\n",
       "      <td>23.000000</td>\n",
       "      <td>23.10</td>\n",
       "      <td>18.709999</td>\n",
       "      <td>19.200001</td>\n",
       "      <td>0.0</td>\n",
       "      <td>0.0</td>\n",
       "      <td>0.0</td>\n",
       "      <td>0.0</td>\n",
       "      <td>0.0</td>\n",
       "      <td>0.0</td>\n",
       "      <td>...</td>\n",
       "      <td>0.0</td>\n",
       "      <td>0.0</td>\n",
       "      <td>0.0</td>\n",
       "      <td>0.0</td>\n",
       "      <td>0.0</td>\n",
       "      <td>0.0</td>\n",
       "      <td>0.0</td>\n",
       "      <td>0.0</td>\n",
       "      <td>0.0</td>\n",
       "      <td>0.0</td>\n",
       "    </tr>\n",
       "    <tr>\n",
       "      <th>4</th>\n",
       "      <td>20.000000</td>\n",
       "      <td>20.00</td>\n",
       "      <td>15.830000</td>\n",
       "      <td>16.110001</td>\n",
       "      <td>0.0</td>\n",
       "      <td>0.0</td>\n",
       "      <td>0.0</td>\n",
       "      <td>0.0</td>\n",
       "      <td>0.0</td>\n",
       "      <td>0.0</td>\n",
       "      <td>...</td>\n",
       "      <td>0.0</td>\n",
       "      <td>0.0</td>\n",
       "      <td>0.0</td>\n",
       "      <td>0.0</td>\n",
       "      <td>0.0</td>\n",
       "      <td>0.0</td>\n",
       "      <td>0.0</td>\n",
       "      <td>0.0</td>\n",
       "      <td>0.0</td>\n",
       "      <td>0.0</td>\n",
       "    </tr>\n",
       "  </tbody>\n",
       "</table>\n",
       "<p>5 rows × 2395 columns</p>\n",
       "</div>"
      ],
      "text/plain": [
       "        Open   High        Low      Close  118500  141000  161100  162800  \\\n",
       "0  19.000000  25.00  17.540001  23.889999     0.0     0.0     0.0     0.0   \n",
       "1  25.790001  30.42  23.299999  23.830000     0.0     0.0     0.0     0.0   \n",
       "2  25.000000  25.92  20.270000  21.959999     0.0     0.0     0.0     0.0   \n",
       "3  23.000000  23.10  18.709999  19.200001     0.0     0.0     0.0     0.0   \n",
       "4  20.000000  20.00  15.830000  16.110001     0.0     0.0     0.0     0.0   \n",
       "\n",
       "   171200  201100  ...  30006100  30875800  31071700  31144300  31369000  \\\n",
       "0     0.0     0.0  ...       0.0       0.0       0.0       0.0       0.0   \n",
       "1     0.0     0.0  ...       0.0       0.0       0.0       0.0       0.0   \n",
       "2     0.0     0.0  ...       0.0       0.0       0.0       0.0       0.0   \n",
       "3     0.0     0.0  ...       0.0       0.0       0.0       0.0       0.0   \n",
       "4     0.0     0.0  ...       0.0       0.0       0.0       0.0       0.0   \n",
       "\n",
       "   32371900  32681700  33649700  37163900  47065000  \n",
       "0       0.0       0.0       0.0       0.0       0.0  \n",
       "1       0.0       0.0       0.0       0.0       0.0  \n",
       "2       0.0       0.0       0.0       0.0       0.0  \n",
       "3       0.0       0.0       0.0       0.0       0.0  \n",
       "4       0.0       0.0       0.0       0.0       0.0  \n",
       "\n",
       "[5 rows x 2395 columns]"
      ]
     },
     "execution_count": 64,
     "metadata": {},
     "output_type": "execute_result"
    }
   ],
   "source": [
    "df.head()"
   ]
  },
  {
   "cell_type": "code",
   "execution_count": 65,
   "id": "484e2635",
   "metadata": {},
   "outputs": [],
   "source": [
    "df.to_csv('TSLA_3.csv')"
   ]
  },
  {
   "cell_type": "code",
   "execution_count": 66,
   "id": "cd193010",
   "metadata": {},
   "outputs": [
    {
     "data": {
      "text/html": [
       "<div>\n",
       "<style scoped>\n",
       "    .dataframe tbody tr th:only-of-type {\n",
       "        vertical-align: middle;\n",
       "    }\n",
       "\n",
       "    .dataframe tbody tr th {\n",
       "        vertical-align: top;\n",
       "    }\n",
       "\n",
       "    .dataframe thead th {\n",
       "        text-align: right;\n",
       "    }\n",
       "</style>\n",
       "<table border=\"1\" class=\"dataframe\">\n",
       "  <thead>\n",
       "    <tr style=\"text-align: right;\">\n",
       "      <th></th>\n",
       "      <th>Open</th>\n",
       "      <th>High</th>\n",
       "      <th>Low</th>\n",
       "      <th>Close</th>\n",
       "      <th>118500</th>\n",
       "      <th>141000</th>\n",
       "      <th>161100</th>\n",
       "      <th>162800</th>\n",
       "      <th>171200</th>\n",
       "      <th>201100</th>\n",
       "      <th>...</th>\n",
       "      <th>30006100</th>\n",
       "      <th>30875800</th>\n",
       "      <th>31071700</th>\n",
       "      <th>31144300</th>\n",
       "      <th>31369000</th>\n",
       "      <th>32371900</th>\n",
       "      <th>32681700</th>\n",
       "      <th>33649700</th>\n",
       "      <th>37163900</th>\n",
       "      <th>47065000</th>\n",
       "    </tr>\n",
       "  </thead>\n",
       "  <tbody>\n",
       "    <tr>\n",
       "      <th>0</th>\n",
       "      <td>19.000000</td>\n",
       "      <td>25.00</td>\n",
       "      <td>17.540001</td>\n",
       "      <td>23.889999</td>\n",
       "      <td>0.0</td>\n",
       "      <td>0.0</td>\n",
       "      <td>0.0</td>\n",
       "      <td>0.0</td>\n",
       "      <td>0.0</td>\n",
       "      <td>0.0</td>\n",
       "      <td>...</td>\n",
       "      <td>0.0</td>\n",
       "      <td>0.0</td>\n",
       "      <td>0.0</td>\n",
       "      <td>0.0</td>\n",
       "      <td>0.0</td>\n",
       "      <td>0.0</td>\n",
       "      <td>0.0</td>\n",
       "      <td>0.0</td>\n",
       "      <td>0.0</td>\n",
       "      <td>0.0</td>\n",
       "    </tr>\n",
       "    <tr>\n",
       "      <th>1</th>\n",
       "      <td>25.790001</td>\n",
       "      <td>30.42</td>\n",
       "      <td>23.299999</td>\n",
       "      <td>23.830000</td>\n",
       "      <td>0.0</td>\n",
       "      <td>0.0</td>\n",
       "      <td>0.0</td>\n",
       "      <td>0.0</td>\n",
       "      <td>0.0</td>\n",
       "      <td>0.0</td>\n",
       "      <td>...</td>\n",
       "      <td>0.0</td>\n",
       "      <td>0.0</td>\n",
       "      <td>0.0</td>\n",
       "      <td>0.0</td>\n",
       "      <td>0.0</td>\n",
       "      <td>0.0</td>\n",
       "      <td>0.0</td>\n",
       "      <td>0.0</td>\n",
       "      <td>0.0</td>\n",
       "      <td>0.0</td>\n",
       "    </tr>\n",
       "    <tr>\n",
       "      <th>2</th>\n",
       "      <td>25.000000</td>\n",
       "      <td>25.92</td>\n",
       "      <td>20.270000</td>\n",
       "      <td>21.959999</td>\n",
       "      <td>0.0</td>\n",
       "      <td>0.0</td>\n",
       "      <td>0.0</td>\n",
       "      <td>0.0</td>\n",
       "      <td>0.0</td>\n",
       "      <td>0.0</td>\n",
       "      <td>...</td>\n",
       "      <td>0.0</td>\n",
       "      <td>0.0</td>\n",
       "      <td>0.0</td>\n",
       "      <td>0.0</td>\n",
       "      <td>0.0</td>\n",
       "      <td>0.0</td>\n",
       "      <td>0.0</td>\n",
       "      <td>0.0</td>\n",
       "      <td>0.0</td>\n",
       "      <td>0.0</td>\n",
       "    </tr>\n",
       "    <tr>\n",
       "      <th>3</th>\n",
       "      <td>23.000000</td>\n",
       "      <td>23.10</td>\n",
       "      <td>18.709999</td>\n",
       "      <td>19.200001</td>\n",
       "      <td>0.0</td>\n",
       "      <td>0.0</td>\n",
       "      <td>0.0</td>\n",
       "      <td>0.0</td>\n",
       "      <td>0.0</td>\n",
       "      <td>0.0</td>\n",
       "      <td>...</td>\n",
       "      <td>0.0</td>\n",
       "      <td>0.0</td>\n",
       "      <td>0.0</td>\n",
       "      <td>0.0</td>\n",
       "      <td>0.0</td>\n",
       "      <td>0.0</td>\n",
       "      <td>0.0</td>\n",
       "      <td>0.0</td>\n",
       "      <td>0.0</td>\n",
       "      <td>0.0</td>\n",
       "    </tr>\n",
       "    <tr>\n",
       "      <th>4</th>\n",
       "      <td>20.000000</td>\n",
       "      <td>20.00</td>\n",
       "      <td>15.830000</td>\n",
       "      <td>16.110001</td>\n",
       "      <td>0.0</td>\n",
       "      <td>0.0</td>\n",
       "      <td>0.0</td>\n",
       "      <td>0.0</td>\n",
       "      <td>0.0</td>\n",
       "      <td>0.0</td>\n",
       "      <td>...</td>\n",
       "      <td>0.0</td>\n",
       "      <td>0.0</td>\n",
       "      <td>0.0</td>\n",
       "      <td>0.0</td>\n",
       "      <td>0.0</td>\n",
       "      <td>0.0</td>\n",
       "      <td>0.0</td>\n",
       "      <td>0.0</td>\n",
       "      <td>0.0</td>\n",
       "      <td>0.0</td>\n",
       "    </tr>\n",
       "  </tbody>\n",
       "</table>\n",
       "<p>5 rows × 2395 columns</p>\n",
       "</div>"
      ],
      "text/plain": [
       "        Open   High        Low      Close  118500  141000  161100  162800  \\\n",
       "0  19.000000  25.00  17.540001  23.889999     0.0     0.0     0.0     0.0   \n",
       "1  25.790001  30.42  23.299999  23.830000     0.0     0.0     0.0     0.0   \n",
       "2  25.000000  25.92  20.270000  21.959999     0.0     0.0     0.0     0.0   \n",
       "3  23.000000  23.10  18.709999  19.200001     0.0     0.0     0.0     0.0   \n",
       "4  20.000000  20.00  15.830000  16.110001     0.0     0.0     0.0     0.0   \n",
       "\n",
       "   171200  201100  ...  30006100  30875800  31071700  31144300  31369000  \\\n",
       "0     0.0     0.0  ...       0.0       0.0       0.0       0.0       0.0   \n",
       "1     0.0     0.0  ...       0.0       0.0       0.0       0.0       0.0   \n",
       "2     0.0     0.0  ...       0.0       0.0       0.0       0.0       0.0   \n",
       "3     0.0     0.0  ...       0.0       0.0       0.0       0.0       0.0   \n",
       "4     0.0     0.0  ...       0.0       0.0       0.0       0.0       0.0   \n",
       "\n",
       "   32371900  32681700  33649700  37163900  47065000  \n",
       "0       0.0       0.0       0.0       0.0       0.0  \n",
       "1       0.0       0.0       0.0       0.0       0.0  \n",
       "2       0.0       0.0       0.0       0.0       0.0  \n",
       "3       0.0       0.0       0.0       0.0       0.0  \n",
       "4       0.0       0.0       0.0       0.0       0.0  \n",
       "\n",
       "[5 rows x 2395 columns]"
      ]
     },
     "execution_count": 66,
     "metadata": {},
     "output_type": "execute_result"
    }
   ],
   "source": [
    "df.head()"
   ]
  },
  {
   "cell_type": "code",
   "execution_count": 67,
   "id": "4ec4fecd",
   "metadata": {},
   "outputs": [],
   "source": [
    "df.to_csv('TSLA_3.csv')"
   ]
  },
  {
   "cell_type": "code",
   "execution_count": 68,
   "id": "595b5ff0",
   "metadata": {},
   "outputs": [],
   "source": [
    "# Read preprocess csv file\n",
    "df = pd.read_csv('Tesla_Stocke3.csv')"
   ]
  },
  {
   "cell_type": "code",
   "execution_count": 69,
   "id": "85c87ff5",
   "metadata": {},
   "outputs": [],
   "source": [
    "df = df.drop('Unnamed: 0',axis=1)"
   ]
  },
  {
   "cell_type": "code",
   "execution_count": 70,
   "id": "5b6f4d5f",
   "metadata": {},
   "outputs": [
    {
     "data": {
      "text/html": [
       "<div>\n",
       "<style scoped>\n",
       "    .dataframe tbody tr th:only-of-type {\n",
       "        vertical-align: middle;\n",
       "    }\n",
       "\n",
       "    .dataframe tbody tr th {\n",
       "        vertical-align: top;\n",
       "    }\n",
       "\n",
       "    .dataframe thead th {\n",
       "        text-align: right;\n",
       "    }\n",
       "</style>\n",
       "<table border=\"1\" class=\"dataframe\">\n",
       "  <thead>\n",
       "    <tr style=\"text-align: right;\">\n",
       "      <th></th>\n",
       "      <th>Open</th>\n",
       "      <th>High</th>\n",
       "      <th>Low</th>\n",
       "      <th>Close</th>\n",
       "      <th>710277</th>\n",
       "      <th>1333518</th>\n",
       "      <th>1422335</th>\n",
       "      <th>1554979</th>\n",
       "      <th>1615961</th>\n",
       "      <th>1659059</th>\n",
       "      <th>...</th>\n",
       "      <th>14863266</th>\n",
       "      <th>14915249</th>\n",
       "      <th>15354717</th>\n",
       "      <th>15649607</th>\n",
       "      <th>15962015</th>\n",
       "      <th>16464952</th>\n",
       "      <th>17046701</th>\n",
       "      <th>17261435</th>\n",
       "      <th>19324495</th>\n",
       "      <th>23742414</th>\n",
       "    </tr>\n",
       "  </thead>\n",
       "  <tbody>\n",
       "    <tr>\n",
       "      <th>0</th>\n",
       "      <td>318.94</td>\n",
       "      <td>327.12</td>\n",
       "      <td>311.22</td>\n",
       "      <td>325.89</td>\n",
       "      <td>0.0</td>\n",
       "      <td>0.0</td>\n",
       "      <td>0.0</td>\n",
       "      <td>0.0</td>\n",
       "      <td>0.0</td>\n",
       "      <td>0.0</td>\n",
       "      <td>...</td>\n",
       "      <td>0.0</td>\n",
       "      <td>0.0</td>\n",
       "      <td>0.0</td>\n",
       "      <td>0.0</td>\n",
       "      <td>0.0</td>\n",
       "      <td>0.0</td>\n",
       "      <td>0.0</td>\n",
       "      <td>0.0</td>\n",
       "      <td>0.0</td>\n",
       "      <td>0.0</td>\n",
       "    </tr>\n",
       "    <tr>\n",
       "      <th>1</th>\n",
       "      <td>323.00</td>\n",
       "      <td>324.45</td>\n",
       "      <td>316.13</td>\n",
       "      <td>319.57</td>\n",
       "      <td>0.0</td>\n",
       "      <td>0.0</td>\n",
       "      <td>0.0</td>\n",
       "      <td>0.0</td>\n",
       "      <td>0.0</td>\n",
       "      <td>0.0</td>\n",
       "      <td>...</td>\n",
       "      <td>0.0</td>\n",
       "      <td>0.0</td>\n",
       "      <td>0.0</td>\n",
       "      <td>0.0</td>\n",
       "      <td>0.0</td>\n",
       "      <td>0.0</td>\n",
       "      <td>0.0</td>\n",
       "      <td>0.0</td>\n",
       "      <td>0.0</td>\n",
       "      <td>0.0</td>\n",
       "    </tr>\n",
       "    <tr>\n",
       "      <th>2</th>\n",
       "      <td>335.50</td>\n",
       "      <td>341.49</td>\n",
       "      <td>321.04</td>\n",
       "      <td>323.47</td>\n",
       "      <td>0.0</td>\n",
       "      <td>0.0</td>\n",
       "      <td>0.0</td>\n",
       "      <td>0.0</td>\n",
       "      <td>0.0</td>\n",
       "      <td>0.0</td>\n",
       "      <td>...</td>\n",
       "      <td>0.0</td>\n",
       "      <td>0.0</td>\n",
       "      <td>0.0</td>\n",
       "      <td>0.0</td>\n",
       "      <td>0.0</td>\n",
       "      <td>0.0</td>\n",
       "      <td>0.0</td>\n",
       "      <td>0.0</td>\n",
       "      <td>0.0</td>\n",
       "      <td>0.0</td>\n",
       "    </tr>\n",
       "    <tr>\n",
       "      <th>3</th>\n",
       "      <td>336.89</td>\n",
       "      <td>339.60</td>\n",
       "      <td>332.51</td>\n",
       "      <td>335.07</td>\n",
       "      <td>0.0</td>\n",
       "      <td>0.0</td>\n",
       "      <td>0.0</td>\n",
       "      <td>0.0</td>\n",
       "      <td>0.0</td>\n",
       "      <td>0.0</td>\n",
       "      <td>...</td>\n",
       "      <td>0.0</td>\n",
       "      <td>0.0</td>\n",
       "      <td>0.0</td>\n",
       "      <td>0.0</td>\n",
       "      <td>0.0</td>\n",
       "      <td>0.0</td>\n",
       "      <td>0.0</td>\n",
       "      <td>0.0</td>\n",
       "      <td>0.0</td>\n",
       "      <td>0.0</td>\n",
       "    </tr>\n",
       "    <tr>\n",
       "      <th>4</th>\n",
       "      <td>346.00</td>\n",
       "      <td>347.50</td>\n",
       "      <td>326.29</td>\n",
       "      <td>334.46</td>\n",
       "      <td>0.0</td>\n",
       "      <td>0.0</td>\n",
       "      <td>0.0</td>\n",
       "      <td>0.0</td>\n",
       "      <td>0.0</td>\n",
       "      <td>0.0</td>\n",
       "      <td>...</td>\n",
       "      <td>0.0</td>\n",
       "      <td>0.0</td>\n",
       "      <td>0.0</td>\n",
       "      <td>0.0</td>\n",
       "      <td>0.0</td>\n",
       "      <td>0.0</td>\n",
       "      <td>0.0</td>\n",
       "      <td>0.0</td>\n",
       "      <td>0.0</td>\n",
       "      <td>0.0</td>\n",
       "    </tr>\n",
       "  </tbody>\n",
       "</table>\n",
       "<p>5 rows × 760 columns</p>\n",
       "</div>"
      ],
      "text/plain": [
       "     Open    High     Low   Close  710277  1333518  1422335  1554979  1615961  \\\n",
       "0  318.94  327.12  311.22  325.89     0.0      0.0      0.0      0.0      0.0   \n",
       "1  323.00  324.45  316.13  319.57     0.0      0.0      0.0      0.0      0.0   \n",
       "2  335.50  341.49  321.04  323.47     0.0      0.0      0.0      0.0      0.0   \n",
       "3  336.89  339.60  332.51  335.07     0.0      0.0      0.0      0.0      0.0   \n",
       "4  346.00  347.50  326.29  334.46     0.0      0.0      0.0      0.0      0.0   \n",
       "\n",
       "   1659059  ...  14863266  14915249  15354717  15649607  15962015  16464952  \\\n",
       "0      0.0  ...       0.0       0.0       0.0       0.0       0.0       0.0   \n",
       "1      0.0  ...       0.0       0.0       0.0       0.0       0.0       0.0   \n",
       "2      0.0  ...       0.0       0.0       0.0       0.0       0.0       0.0   \n",
       "3      0.0  ...       0.0       0.0       0.0       0.0       0.0       0.0   \n",
       "4      0.0  ...       0.0       0.0       0.0       0.0       0.0       0.0   \n",
       "\n",
       "   17046701  17261435  19324495  23742414  \n",
       "0       0.0       0.0       0.0       0.0  \n",
       "1       0.0       0.0       0.0       0.0  \n",
       "2       0.0       0.0       0.0       0.0  \n",
       "3       0.0       0.0       0.0       0.0  \n",
       "4       0.0       0.0       0.0       0.0  \n",
       "\n",
       "[5 rows x 760 columns]"
      ]
     },
     "execution_count": 70,
     "metadata": {},
     "output_type": "execute_result"
    }
   ],
   "source": [
    "# View first 5 rows\n",
    "df.head()"
   ]
  },
  {
   "cell_type": "markdown",
   "id": "5e44003d",
   "metadata": {},
   "source": [
    "## Data Preparation"
   ]
  },
  {
   "cell_type": "code",
   "execution_count": 71,
   "id": "87ffc4ff",
   "metadata": {},
   "outputs": [],
   "source": [
    "target = 'Close'\n",
    "X = df.drop(target,axis=1)\n",
    "y = df[target]"
   ]
  },
  {
   "cell_type": "code",
   "execution_count": 72,
   "id": "5b9b0161",
   "metadata": {},
   "outputs": [
    {
     "data": {
      "text/plain": [
       "((756, 759), (756,))"
      ]
     },
     "execution_count": 72,
     "metadata": {},
     "output_type": "execute_result"
    }
   ],
   "source": [
    "# Check the shape of X and y variable\n",
    "X.shape, y.shape"
   ]
  },
  {
   "cell_type": "code",
   "execution_count": 73,
   "id": "cb17ca6c",
   "metadata": {},
   "outputs": [],
   "source": [
    "# Reshape the y variable \n",
    "y = y.values.reshape(-1,1)"
   ]
  },
  {
   "cell_type": "code",
   "execution_count": 74,
   "id": "4f19496a",
   "metadata": {},
   "outputs": [
    {
     "data": {
      "text/plain": [
       "((756, 759), (756, 1))"
      ]
     },
     "execution_count": 74,
     "metadata": {},
     "output_type": "execute_result"
    }
   ],
   "source": [
    "# Again check the shape of X and y variable\n",
    "X.shape, y.shape"
   ]
  },
  {
   "cell_type": "code",
   "execution_count": 75,
   "id": "61ddc5db",
   "metadata": {},
   "outputs": [],
   "source": [
    "# Split the X and y into X_train, X_test, y_train, y_test variables with 80-20% split.\n",
    "X_train, X_test, y_train, y_test = train_test_split(X, y, test_size=0.2, random_state=42)"
   ]
  },
  {
   "cell_type": "code",
   "execution_count": 76,
   "id": "53950f01",
   "metadata": {},
   "outputs": [
    {
     "data": {
      "text/plain": [
       "((604, 759), (152, 759), (604, 1), (152, 1))"
      ]
     },
     "execution_count": 76,
     "metadata": {},
     "output_type": "execute_result"
    }
   ],
   "source": [
    "# Check shape of the splitted variables\n",
    "X_train.shape, X_test.shape, y_train.shape, y_test.shape"
   ]
  },
  {
   "cell_type": "code",
   "execution_count": 77,
   "id": "fa938554",
   "metadata": {},
   "outputs": [],
   "source": [
    "# Define kfold with 10 split\n",
    "cv = KFold(n_splits=10, shuffle=True, random_state=42)"
   ]
  },
  {
   "cell_type": "markdown",
   "id": "717b20b5",
   "metadata": {},
   "source": [
    "# Model Training\n",
    "------->>>>>>lasso regression"
   ]
  },
  {
   "cell_type": "code",
   "execution_count": 80,
   "id": "7ed586c3",
   "metadata": {},
   "outputs": [],
   "source": [
    "# define lasso regression model object\n",
    "lasso_reg = LassoCV()\n"
   ]
  },
  {
   "cell_type": "code",
   "execution_count": 81,
   "id": "ff7a8d44",
   "metadata": {},
   "outputs": [],
   "source": [
    "# train or fit train dataset on lasso regression model\n",
    "lasso_reg = lasso_reg.fit(X_train, y_train)"
   ]
  },
  {
   "cell_type": "code",
   "execution_count": 82,
   "id": "09e017b7",
   "metadata": {},
   "outputs": [
    {
     "data": {
      "text/plain": [
       "0.9969121035577688"
      ]
     },
     "execution_count": 82,
     "metadata": {},
     "output_type": "execute_result"
    }
   ],
   "source": [
    "# Get R2 score\n",
    "lasso_reg.score(X_train, y_train)"
   ]
  },
  {
   "cell_type": "code",
   "execution_count": 90,
   "id": "a1eb8ac5",
   "metadata": {},
   "outputs": [
    {
     "data": {
      "text/plain": [
       "array([2.58763728, 2.05654164, 2.46524209, 2.01176367, 2.76725981,\n",
       "       2.15040192, 2.36060714, 2.40474251, 2.47607389, 2.02202859])"
      ]
     },
     "execution_count": 90,
     "metadata": {},
     "output_type": "execute_result"
    }
   ],
   "source": [
    "# get kfold values\n",
    "lasso_scores = -1 * cross_val_score(lasso_reg, \n",
    "                                    X_train, \n",
    "                                    y_train, \n",
    "                                    cv=cv, \n",
    "                                    scoring='neg_root_mean_squared_error')\n",
    "lasso_scores"
   ]
  },
  {
   "cell_type": "code",
   "execution_count": 84,
   "id": "1b4ac24d",
   "metadata": {},
   "outputs": [
    {
     "data": {
      "text/plain": [
       "2.3302298536442048"
      ]
     },
     "execution_count": 84,
     "metadata": {},
     "output_type": "execute_result"
    }
   ],
   "source": [
    "# mean of the train kfold scores\n",
    "lasso_score_train = np.mean(lasso_scores)\n",
    "lasso_score_train"
   ]
  },
  {
   "cell_type": "markdown",
   "id": "b9b22a8d",
   "metadata": {},
   "source": [
    "### Predict"
   ]
  },
  {
   "cell_type": "code",
   "execution_count": 91,
   "id": "22ac09e3",
   "metadata": {},
   "outputs": [],
   "source": [
    "# predict the values on X_test_scaled dataset \n",
    "y_predicted = lasso_reg.predict(X_test)"
   ]
  },
  {
   "cell_type": "code",
   "execution_count": 89,
   "id": "e65022a3",
   "metadata": {},
   "outputs": [
    {
     "data": {
      "text/plain": [
       "2.2051519869431426"
      ]
     },
     "execution_count": 89,
     "metadata": {},
     "output_type": "execute_result"
    }
   ],
   "source": [
    "# RMSE between y_test and y_predicted values\n",
    "lasso_score_test = mean_squared_error(y_test, y_predicted, squared=False)\n",
    "lasso_score_test"
   ]
  },
  {
   "cell_type": "code",
   "execution_count": 92,
   "id": "4934ccec",
   "metadata": {},
   "outputs": [
    {
     "data": {
      "image/png": "[encoded data removed]",
      "text/plain": [
       "<Figure size 640x480 with 1 Axes>"
      ]
     },
     "metadata": {},
     "output_type": "display_data"
    }
   ],
   "source": [
    "# scatter plot between y_test and y_predicted values\n",
    "plt.scatter(y_test, y_predicted)\n",
    "plt.show()"
   ]
  },
  {
   "cell_type": "code",
   "execution_count": 93,
   "id": "a4ea0538",
   "metadata": {},
   "outputs": [
    {
     "data": {
      "image/png": "[encoded data removed]",
      "text/plain": [
       "<Figure size 640x480 with 1 Axes>"
      ]
     },
     "metadata": {},
     "output_type": "display_data"
    }
   ],
   "source": [
    "# histogram between y_test and y_predicted values\n",
    "plt.hist(y_test - y_predicted)\n",
    "plt.show()"
   ]
  },
  {
   "cell_type": "code",
   "execution_count": null,
   "id": "985e10bf",
   "metadata": {},
   "outputs": [],
   "source": []
  }
 ],
 "metadata": {
  "kernelspec": {
   "display_name": "Python 3 (ipykernel)",
   "language": "python",
   "name": "python3"
  },
  "language_info": {
   "codemirror_mode": {
    "name": "ipython",
    "version": 3
   },
   "file_extension": ".py",
   "mimetype": "text/x-python",
   "name": "python",
   "nbconvert_exporter": "python",
   "pygments_lexer": "ipython3",
   "version": "3.10.8"
  }
 },
 "nbformat": 4,
 "nbformat_minor": 5
}
